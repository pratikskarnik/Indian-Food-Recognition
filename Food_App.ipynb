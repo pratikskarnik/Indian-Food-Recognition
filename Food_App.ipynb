version https://git-lfs.github.com/spec/v1
oid sha256:fb2e062b9cdeb00b3fc56ecdd21810c73f28282d26fb1230f4a635afabcb9ee1
size 2835
